{
 "cells": [
  {
   "cell_type": "code",
   "metadata": {
    "tags": [],
    "cell_id": "00000-450ac752-82c5-4d19-b877-00b6e64fca1b",
    "deepnote_to_be_reexecuted": false,
    "source_hash": "8ca6a091",
    "execution_start": 1641306547280,
    "execution_millis": 1455,
    "deepnote_cell_type": "code"
   },
   "source": "import pandas as pd\nimport numpy as np\nimport matplotlib.pyplot as plt",
   "execution_count": 1,
   "outputs": []
  },
  {
   "cell_type": "markdown",
   "source": "## Obtain data",
   "metadata": {
    "tags": [],
    "cell_id": "00001-28e88da5-a2e2-482e-8c37-c7dea94f31cb",
    "deepnote_cell_type": "markdown"
   }
  },
  {
   "cell_type": "code",
   "metadata": {
    "tags": [],
    "cell_id": "00001-144f34a1-03fe-4633-a18b-07caca24fe1a",
    "deepnote_to_be_reexecuted": false,
    "source_hash": "a4db1847",
    "execution_start": 1641306548743,
    "execution_millis": 334,
    "deepnote_cell_type": "code"
   },
   "source": "df_customers = pd.read_csv('../data/Mall_Customers.csv')\ndf_customers.head()",
   "execution_count": 2,
   "outputs": [
    {
     "output_type": "execute_result",
     "execution_count": 2,
     "data": {
      "application/vnd.deepnote.dataframe.v3+json": {
       "column_count": 5,
       "row_count": 5,
       "columns": [
        {
         "name": "CustomerID",
         "dtype": "int64",
         "stats": {
          "unique_count": 5,
          "nan_count": 0,
          "min": "1",
          "max": "5",
          "histogram": [
           {
            "bin_start": 1,
            "bin_end": 1.4,
            "count": 1
           },
           {
            "bin_start": 1.4,
            "bin_end": 1.8,
            "count": 0
           },
           {
            "bin_start": 1.8,
            "bin_end": 2.2,
            "count": 1
           },
           {
            "bin_start": 2.2,
            "bin_end": 2.6,
            "count": 0
           },
           {
            "bin_start": 2.6,
            "bin_end": 3,
            "count": 0
           },
           {
            "bin_start": 3,
            "bin_end": 3.4000000000000004,
            "count": 1
           },
           {
            "bin_start": 3.4000000000000004,
            "bin_end": 3.8000000000000003,
            "count": 0
           },
           {
            "bin_start": 3.8000000000000003,
            "bin_end": 4.2,
            "count": 1
           },
           {
            "bin_start": 4.2,
            "bin_end": 4.6,
            "count": 0
           },
           {
            "bin_start": 4.6,
            "bin_end": 5,
            "count": 1
           }
          ]
         }
        },
        {
         "name": "Gender",
         "dtype": "object",
         "stats": {
          "unique_count": 2,
          "nan_count": 0,
          "categories": [
           {
            "name": "Female",
            "count": 3
           },
           {
            "name": "Male",
            "count": 2
           }
          ]
         }
        },
        {
         "name": "Age",
         "dtype": "int64",
         "stats": {
          "unique_count": 5,
          "nan_count": 0,
          "min": "19",
          "max": "31",
          "histogram": [
           {
            "bin_start": 19,
            "bin_end": 20.2,
            "count": 2
           },
           {
            "bin_start": 20.2,
            "bin_end": 21.4,
            "count": 1
           },
           {
            "bin_start": 21.4,
            "bin_end": 22.6,
            "count": 0
           },
           {
            "bin_start": 22.6,
            "bin_end": 23.8,
            "count": 1
           },
           {
            "bin_start": 23.8,
            "bin_end": 25,
            "count": 0
           },
           {
            "bin_start": 25,
            "bin_end": 26.2,
            "count": 0
           },
           {
            "bin_start": 26.2,
            "bin_end": 27.4,
            "count": 0
           },
           {
            "bin_start": 27.4,
            "bin_end": 28.6,
            "count": 0
           },
           {
            "bin_start": 28.6,
            "bin_end": 29.799999999999997,
            "count": 0
           },
           {
            "bin_start": 29.799999999999997,
            "bin_end": 31,
            "count": 1
           }
          ]
         }
        },
        {
         "name": "Annual Income (k$)",
         "dtype": "int64",
         "stats": {
          "unique_count": 3,
          "nan_count": 0,
          "min": "15",
          "max": "17",
          "histogram": [
           {
            "bin_start": 15,
            "bin_end": 15.2,
            "count": 2
           },
           {
            "bin_start": 15.2,
            "bin_end": 15.4,
            "count": 0
           },
           {
            "bin_start": 15.4,
            "bin_end": 15.6,
            "count": 0
           },
           {
            "bin_start": 15.6,
            "bin_end": 15.8,
            "count": 0
           },
           {
            "bin_start": 15.8,
            "bin_end": 16,
            "count": 0
           },
           {
            "bin_start": 16,
            "bin_end": 16.2,
            "count": 2
           },
           {
            "bin_start": 16.2,
            "bin_end": 16.4,
            "count": 0
           },
           {
            "bin_start": 16.4,
            "bin_end": 16.6,
            "count": 0
           },
           {
            "bin_start": 16.6,
            "bin_end": 16.8,
            "count": 0
           },
           {
            "bin_start": 16.8,
            "bin_end": 17,
            "count": 1
           }
          ]
         }
        },
        {
         "name": "Spending Score (1-100)",
         "dtype": "int64",
         "stats": {
          "unique_count": 5,
          "nan_count": 0,
          "min": "6",
          "max": "81",
          "histogram": [
           {
            "bin_start": 6,
            "bin_end": 13.5,
            "count": 1
           },
           {
            "bin_start": 13.5,
            "bin_end": 21,
            "count": 0
           },
           {
            "bin_start": 21,
            "bin_end": 28.5,
            "count": 0
           },
           {
            "bin_start": 28.5,
            "bin_end": 36,
            "count": 0
           },
           {
            "bin_start": 36,
            "bin_end": 43.5,
            "count": 2
           },
           {
            "bin_start": 43.5,
            "bin_end": 51,
            "count": 0
           },
           {
            "bin_start": 51,
            "bin_end": 58.5,
            "count": 0
           },
           {
            "bin_start": 58.5,
            "bin_end": 66,
            "count": 0
           },
           {
            "bin_start": 66,
            "bin_end": 73.5,
            "count": 0
           },
           {
            "bin_start": 73.5,
            "bin_end": 81,
            "count": 2
           }
          ]
         }
        },
        {
         "name": "_deepnote_index_column",
         "dtype": "int64"
        }
       ],
       "rows": [
        {
         "CustomerID": 1,
         "Gender": "Male",
         "Age": 19,
         "Annual Income (k$)": 15,
         "Spending Score (1-100)": 39,
         "_deepnote_index_column": 0
        },
        {
         "CustomerID": 2,
         "Gender": "Male",
         "Age": 21,
         "Annual Income (k$)": 15,
         "Spending Score (1-100)": 81,
         "_deepnote_index_column": 1
        },
        {
         "CustomerID": 3,
         "Gender": "Female",
         "Age": 20,
         "Annual Income (k$)": 16,
         "Spending Score (1-100)": 6,
         "_deepnote_index_column": 2
        },
        {
         "CustomerID": 4,
         "Gender": "Female",
         "Age": 23,
         "Annual Income (k$)": 16,
         "Spending Score (1-100)": 77,
         "_deepnote_index_column": 3
        },
        {
         "CustomerID": 5,
         "Gender": "Female",
         "Age": 31,
         "Annual Income (k$)": 17,
         "Spending Score (1-100)": 40,
         "_deepnote_index_column": 4
        }
       ]
      },
      "text/plain": "   CustomerID  Gender  Age  Annual Income (k$)  Spending Score (1-100)\n0           1    Male   19                  15                      39\n1           2    Male   21                  15                      81\n2           3  Female   20                  16                       6\n3           4  Female   23                  16                      77\n4           5  Female   31                  17                      40",
      "text/html": "<div>\n<style scoped>\n    .dataframe tbody tr th:only-of-type {\n        vertical-align: middle;\n    }\n\n    .dataframe tbody tr th {\n        vertical-align: top;\n    }\n\n    .dataframe thead th {\n        text-align: right;\n    }\n</style>\n<table border=\"1\" class=\"dataframe\">\n  <thead>\n    <tr style=\"text-align: right;\">\n      <th></th>\n      <th>CustomerID</th>\n      <th>Gender</th>\n      <th>Age</th>\n      <th>Annual Income (k$)</th>\n      <th>Spending Score (1-100)</th>\n    </tr>\n  </thead>\n  <tbody>\n    <tr>\n      <th>0</th>\n      <td>1</td>\n      <td>Male</td>\n      <td>19</td>\n      <td>15</td>\n      <td>39</td>\n    </tr>\n    <tr>\n      <th>1</th>\n      <td>2</td>\n      <td>Male</td>\n      <td>21</td>\n      <td>15</td>\n      <td>81</td>\n    </tr>\n    <tr>\n      <th>2</th>\n      <td>3</td>\n      <td>Female</td>\n      <td>20</td>\n      <td>16</td>\n      <td>6</td>\n    </tr>\n    <tr>\n      <th>3</th>\n      <td>4</td>\n      <td>Female</td>\n      <td>23</td>\n      <td>16</td>\n      <td>77</td>\n    </tr>\n    <tr>\n      <th>4</th>\n      <td>5</td>\n      <td>Female</td>\n      <td>31</td>\n      <td>17</td>\n      <td>40</td>\n    </tr>\n  </tbody>\n</table>\n</div>"
     },
     "metadata": {}
    }
   ]
  },
  {
   "cell_type": "markdown",
   "source": "## Scrub data",
   "metadata": {
    "tags": [],
    "cell_id": "00003-dfbcee3f-765e-452b-88e8-1c0bb5a91273",
    "deepnote_cell_type": "markdown"
   },
   "outputs": [],
   "execution_count": null
  },
  {
   "cell_type": "code",
   "source": "df_customers = df_customers.drop(['CustomerID'], axis=1)\ndf_customers.head()",
   "metadata": {
    "tags": [],
    "cell_id": "00003-1225aa18-ac33-41d5-a97d-cfacc83858be",
    "deepnote_to_be_reexecuted": false,
    "source_hash": "caf18a8c",
    "execution_start": 1641306548836,
    "execution_millis": 250,
    "deepnote_cell_type": "code"
   },
   "outputs": [
    {
     "output_type": "execute_result",
     "execution_count": 3,
     "data": {
      "application/vnd.deepnote.dataframe.v3+json": {
       "column_count": 4,
       "row_count": 5,
       "columns": [
        {
         "name": "Gender",
         "dtype": "object",
         "stats": {
          "unique_count": 2,
          "nan_count": 0,
          "categories": [
           {
            "name": "Female",
            "count": 3
           },
           {
            "name": "Male",
            "count": 2
           }
          ]
         }
        },
        {
         "name": "Age",
         "dtype": "int64",
         "stats": {
          "unique_count": 5,
          "nan_count": 0,
          "min": "19",
          "max": "31",
          "histogram": [
           {
            "bin_start": 19,
            "bin_end": 20.2,
            "count": 2
           },
           {
            "bin_start": 20.2,
            "bin_end": 21.4,
            "count": 1
           },
           {
            "bin_start": 21.4,
            "bin_end": 22.6,
            "count": 0
           },
           {
            "bin_start": 22.6,
            "bin_end": 23.8,
            "count": 1
           },
           {
            "bin_start": 23.8,
            "bin_end": 25,
            "count": 0
           },
           {
            "bin_start": 25,
            "bin_end": 26.2,
            "count": 0
           },
           {
            "bin_start": 26.2,
            "bin_end": 27.4,
            "count": 0
           },
           {
            "bin_start": 27.4,
            "bin_end": 28.6,
            "count": 0
           },
           {
            "bin_start": 28.6,
            "bin_end": 29.799999999999997,
            "count": 0
           },
           {
            "bin_start": 29.799999999999997,
            "bin_end": 31,
            "count": 1
           }
          ]
         }
        },
        {
         "name": "Annual Income (k$)",
         "dtype": "int64",
         "stats": {
          "unique_count": 3,
          "nan_count": 0,
          "min": "15",
          "max": "17",
          "histogram": [
           {
            "bin_start": 15,
            "bin_end": 15.2,
            "count": 2
           },
           {
            "bin_start": 15.2,
            "bin_end": 15.4,
            "count": 0
           },
           {
            "bin_start": 15.4,
            "bin_end": 15.6,
            "count": 0
           },
           {
            "bin_start": 15.6,
            "bin_end": 15.8,
            "count": 0
           },
           {
            "bin_start": 15.8,
            "bin_end": 16,
            "count": 0
           },
           {
            "bin_start": 16,
            "bin_end": 16.2,
            "count": 2
           },
           {
            "bin_start": 16.2,
            "bin_end": 16.4,
            "count": 0
           },
           {
            "bin_start": 16.4,
            "bin_end": 16.6,
            "count": 0
           },
           {
            "bin_start": 16.6,
            "bin_end": 16.8,
            "count": 0
           },
           {
            "bin_start": 16.8,
            "bin_end": 17,
            "count": 1
           }
          ]
         }
        },
        {
         "name": "Spending Score (1-100)",
         "dtype": "int64",
         "stats": {
          "unique_count": 5,
          "nan_count": 0,
          "min": "6",
          "max": "81",
          "histogram": [
           {
            "bin_start": 6,
            "bin_end": 13.5,
            "count": 1
           },
           {
            "bin_start": 13.5,
            "bin_end": 21,
            "count": 0
           },
           {
            "bin_start": 21,
            "bin_end": 28.5,
            "count": 0
           },
           {
            "bin_start": 28.5,
            "bin_end": 36,
            "count": 0
           },
           {
            "bin_start": 36,
            "bin_end": 43.5,
            "count": 2
           },
           {
            "bin_start": 43.5,
            "bin_end": 51,
            "count": 0
           },
           {
            "bin_start": 51,
            "bin_end": 58.5,
            "count": 0
           },
           {
            "bin_start": 58.5,
            "bin_end": 66,
            "count": 0
           },
           {
            "bin_start": 66,
            "bin_end": 73.5,
            "count": 0
           },
           {
            "bin_start": 73.5,
            "bin_end": 81,
            "count": 2
           }
          ]
         }
        },
        {
         "name": "_deepnote_index_column",
         "dtype": "int64"
        }
       ],
       "rows": [
        {
         "Gender": "Male",
         "Age": 19,
         "Annual Income (k$)": 15,
         "Spending Score (1-100)": 39,
         "_deepnote_index_column": 0
        },
        {
         "Gender": "Male",
         "Age": 21,
         "Annual Income (k$)": 15,
         "Spending Score (1-100)": 81,
         "_deepnote_index_column": 1
        },
        {
         "Gender": "Female",
         "Age": 20,
         "Annual Income (k$)": 16,
         "Spending Score (1-100)": 6,
         "_deepnote_index_column": 2
        },
        {
         "Gender": "Female",
         "Age": 23,
         "Annual Income (k$)": 16,
         "Spending Score (1-100)": 77,
         "_deepnote_index_column": 3
        },
        {
         "Gender": "Female",
         "Age": 31,
         "Annual Income (k$)": 17,
         "Spending Score (1-100)": 40,
         "_deepnote_index_column": 4
        }
       ]
      },
      "text/plain": "   Gender  Age  Annual Income (k$)  Spending Score (1-100)\n0    Male   19                  15                      39\n1    Male   21                  15                      81\n2  Female   20                  16                       6\n3  Female   23                  16                      77\n4  Female   31                  17                      40",
      "text/html": "<div>\n<style scoped>\n    .dataframe tbody tr th:only-of-type {\n        vertical-align: middle;\n    }\n\n    .dataframe tbody tr th {\n        vertical-align: top;\n    }\n\n    .dataframe thead th {\n        text-align: right;\n    }\n</style>\n<table border=\"1\" class=\"dataframe\">\n  <thead>\n    <tr style=\"text-align: right;\">\n      <th></th>\n      <th>Gender</th>\n      <th>Age</th>\n      <th>Annual Income (k$)</th>\n      <th>Spending Score (1-100)</th>\n    </tr>\n  </thead>\n  <tbody>\n    <tr>\n      <th>0</th>\n      <td>Male</td>\n      <td>19</td>\n      <td>15</td>\n      <td>39</td>\n    </tr>\n    <tr>\n      <th>1</th>\n      <td>Male</td>\n      <td>21</td>\n      <td>15</td>\n      <td>81</td>\n    </tr>\n    <tr>\n      <th>2</th>\n      <td>Female</td>\n      <td>20</td>\n      <td>16</td>\n      <td>6</td>\n    </tr>\n    <tr>\n      <th>3</th>\n      <td>Female</td>\n      <td>23</td>\n      <td>16</td>\n      <td>77</td>\n    </tr>\n    <tr>\n      <th>4</th>\n      <td>Female</td>\n      <td>31</td>\n      <td>17</td>\n      <td>40</td>\n    </tr>\n  </tbody>\n</table>\n</div>"
     },
     "metadata": {}
    }
   ],
   "execution_count": 3
  },
  {
   "cell_type": "code",
   "source": "df_customers.isnull().sum()",
   "metadata": {
    "tags": [],
    "cell_id": "00004-24b42e76-7d80-40be-8550-2801237c7c25",
    "deepnote_to_be_reexecuted": false,
    "source_hash": "13a9233c",
    "execution_start": 1641306850277,
    "execution_millis": 16,
    "deepnote_output_heights": [
     98
    ],
    "deepnote_cell_type": "code"
   },
   "outputs": [
    {
     "output_type": "execute_result",
     "execution_count": 8,
     "data": {
      "text/plain": "Gender                    0\nAge                       0\nAnnual Income (k$)        0\nSpending Score (1-100)    0\ndtype: int64"
     },
     "metadata": {}
    }
   ],
   "execution_count": 8
  },
  {
   "cell_type": "code",
   "source": "from sklearn.preprocessing import StandardScaler",
   "metadata": {
    "tags": [],
    "cell_id": "00007-e63d3944-c5ce-4a49-ac17-f5f06c7f2206",
    "deepnote_to_be_reexecuted": false,
    "source_hash": "866b8212",
    "execution_start": 1641307197536,
    "execution_millis": 3,
    "deepnote_cell_type": "code"
   },
   "outputs": [],
   "execution_count": 10
  },
  {
   "cell_type": "code",
   "source": "numerical_columns = ['Age', 'Annual Income (k$)', 'Spending Score (1-100)']\nnumerical_data = df_customers[numerical_columns]\nscaler = StandardScaler().fit(numerical_data.values)\nnumerical_data = scaler.transform(numerical_data.values)\nscaled_num_data = pd.DataFrame(numerical_data, columns=numerical_columns)\nscaled_num_data.head()\n",
   "metadata": {
    "tags": [],
    "cell_id": "00008-0badd7d9-3f87-46d6-bb7c-5af0e0210b1c",
    "deepnote_to_be_reexecuted": false,
    "source_hash": "6733d0da",
    "execution_start": 1641307494942,
    "execution_millis": 11,
    "deepnote_cell_type": "code"
   },
   "outputs": [
    {
     "output_type": "execute_result",
     "execution_count": 12,
     "data": {
      "application/vnd.deepnote.dataframe.v3+json": {
       "column_count": 3,
       "row_count": 5,
       "columns": [
        {
         "name": "Age",
         "dtype": "float64",
         "stats": {
          "unique_count": 5,
          "nan_count": 0,
          "min": "-1.4245687900521393",
          "max": "-0.5633685139500905",
          "histogram": [
           {
            "bin_start": -1.4245687900521393,
            "bin_end": -1.3384487624419343,
            "count": 2
           },
           {
            "bin_start": -1.3384487624419343,
            "bin_end": -1.2523287348317296,
            "count": 1
           },
           {
            "bin_start": -1.2523287348317296,
            "bin_end": -1.1662087072215246,
            "count": 0
           },
           {
            "bin_start": -1.1662087072215246,
            "bin_end": -1.0800886796113198,
            "count": 1
           },
           {
            "bin_start": -1.0800886796113198,
            "bin_end": -0.9939686520011148,
            "count": 0
           },
           {
            "bin_start": -0.9939686520011148,
            "bin_end": -0.90784862439091,
            "count": 0
           },
           {
            "bin_start": -0.90784862439091,
            "bin_end": -0.8217285967807051,
            "count": 0
           },
           {
            "bin_start": -0.8217285967807051,
            "bin_end": -0.7356085691705002,
            "count": 0
           },
           {
            "bin_start": -0.7356085691705002,
            "bin_end": -0.6494885415602953,
            "count": 0
           },
           {
            "bin_start": -0.6494885415602953,
            "bin_end": -0.5633685139500905,
            "count": 1
           }
          ]
         }
        },
        {
         "name": "Annual Income (k$)",
         "dtype": "float64",
         "stats": {
          "unique_count": 3,
          "nan_count": 0,
          "min": "-1.7389991930659485",
          "max": "-1.6626603347224038",
          "histogram": [
           {
            "bin_start": -1.7389991930659485,
            "bin_end": -1.731365307231594,
            "count": 2
           },
           {
            "bin_start": -1.731365307231594,
            "bin_end": -1.7237314213972397,
            "count": 0
           },
           {
            "bin_start": -1.7237314213972397,
            "bin_end": -1.7160975355628851,
            "count": 0
           },
           {
            "bin_start": -1.7160975355628851,
            "bin_end": -1.7084636497285306,
            "count": 0
           },
           {
            "bin_start": -1.7084636497285306,
            "bin_end": -1.700829763894176,
            "count": 2
           },
           {
            "bin_start": -1.700829763894176,
            "bin_end": -1.6931958780598217,
            "count": 0
           },
           {
            "bin_start": -1.6931958780598217,
            "bin_end": -1.6855619922254672,
            "count": 0
           },
           {
            "bin_start": -1.6855619922254672,
            "bin_end": -1.6779281063911127,
            "count": 0
           },
           {
            "bin_start": -1.6779281063911127,
            "bin_end": -1.6702942205567584,
            "count": 0
           },
           {
            "bin_start": -1.6702942205567584,
            "bin_end": -1.6626603347224038,
            "count": 1
           }
          ]
         }
        },
        {
         "name": "Spending Score (1-100)",
         "dtype": "float64",
         "stats": {
          "unique_count": 5,
          "nan_count": 0,
          "min": "-1.7159129834496736",
          "max": "1.195704069915157",
          "histogram": [
           {
            "bin_start": -1.7159129834496736,
            "bin_end": -1.4247512781131906,
            "count": 1
           },
           {
            "bin_start": -1.4247512781131906,
            "bin_end": -1.1335895727767076,
            "count": 0
           },
           {
            "bin_start": -1.1335895727767076,
            "bin_end": -0.8424278674402244,
            "count": 0
           },
           {
            "bin_start": -0.8424278674402244,
            "bin_end": -0.5512661621037414,
            "count": 0
           },
           {
            "bin_start": -0.5512661621037414,
            "bin_end": -0.26010445676725835,
            "count": 2
           },
           {
            "bin_start": -0.26010445676725835,
            "bin_end": 0.03105724856922487,
            "count": 0
           },
           {
            "bin_start": 0.03105724856922487,
            "bin_end": 0.32221895390570765,
            "count": 0
           },
           {
            "bin_start": 0.32221895390570765,
            "bin_end": 0.6133806592421909,
            "count": 0
           },
           {
            "bin_start": 0.6133806592421909,
            "bin_end": 0.9045423645786741,
            "count": 0
           },
           {
            "bin_start": 0.9045423645786741,
            "bin_end": 1.195704069915157,
            "count": 2
           }
          ]
         }
        },
        {
         "name": "_deepnote_index_column",
         "dtype": "int64"
        }
       ],
       "rows": [
        {
         "Age": -1.4245687900521393,
         "Annual Income (k$)": -1.7389991930659485,
         "Spending Score (1-100)": -0.43480147996914814,
         "_deepnote_index_column": 0
        },
        {
         "Age": -1.2810354107017978,
         "Annual Income (k$)": -1.7389991930659485,
         "Spending Score (1-100)": 1.195704069915157,
         "_deepnote_index_column": 1
        },
        {
         "Age": -1.3528021003769686,
         "Annual Income (k$)": -1.7008297638941763,
         "Spending Score (1-100)": -1.7159129834496736,
         "_deepnote_index_column": 2
        },
        {
         "Age": -1.1375020313514563,
         "Annual Income (k$)": -1.7008297638941763,
         "Spending Score (1-100)": 1.0404178270690327,
         "_deepnote_index_column": 3
        },
        {
         "Age": -0.5633685139500905,
         "Annual Income (k$)": -1.6626603347224038,
         "Spending Score (1-100)": -0.3959799192576171,
         "_deepnote_index_column": 4
        }
       ]
      },
      "text/plain": "        Age  Annual Income (k$)  Spending Score (1-100)\n0 -1.424569           -1.738999               -0.434801\n1 -1.281035           -1.738999                1.195704\n2 -1.352802           -1.700830               -1.715913\n3 -1.137502           -1.700830                1.040418\n4 -0.563369           -1.662660               -0.395980",
      "text/html": "<div>\n<style scoped>\n    .dataframe tbody tr th:only-of-type {\n        vertical-align: middle;\n    }\n\n    .dataframe tbody tr th {\n        vertical-align: top;\n    }\n\n    .dataframe thead th {\n        text-align: right;\n    }\n</style>\n<table border=\"1\" class=\"dataframe\">\n  <thead>\n    <tr style=\"text-align: right;\">\n      <th></th>\n      <th>Age</th>\n      <th>Annual Income (k$)</th>\n      <th>Spending Score (1-100)</th>\n    </tr>\n  </thead>\n  <tbody>\n    <tr>\n      <th>0</th>\n      <td>-1.424569</td>\n      <td>-1.738999</td>\n      <td>-0.434801</td>\n    </tr>\n    <tr>\n      <th>1</th>\n      <td>-1.281035</td>\n      <td>-1.738999</td>\n      <td>1.195704</td>\n    </tr>\n    <tr>\n      <th>2</th>\n      <td>-1.352802</td>\n      <td>-1.700830</td>\n      <td>-1.715913</td>\n    </tr>\n    <tr>\n      <th>3</th>\n      <td>-1.137502</td>\n      <td>-1.700830</td>\n      <td>1.040418</td>\n    </tr>\n    <tr>\n      <th>4</th>\n      <td>-0.563369</td>\n      <td>-1.662660</td>\n      <td>-0.395980</td>\n    </tr>\n  </tbody>\n</table>\n</div>"
     },
     "metadata": {}
    }
   ],
   "execution_count": 12
  },
  {
   "cell_type": "markdown",
   "source": "## Explore data",
   "metadata": {
    "tags": [],
    "cell_id": "00006-4d5aa7dc-1d0a-4890-a172-d33b82cd0591",
    "deepnote_cell_type": "markdown"
   },
   "outputs": [],
   "execution_count": null
  },
  {
   "cell_type": "markdown",
   "source": "## Model data",
   "metadata": {
    "tags": [],
    "cell_id": "00007-f5e578fb-8cbd-4134-9589-e3a9258d897a",
    "deepnote_cell_type": "markdown"
   },
   "outputs": [],
   "execution_count": null
  },
  {
   "cell_type": "markdown",
   "source": "## Interpret data",
   "metadata": {
    "tags": [],
    "cell_id": "00008-5fdaf80d-154c-4c4d-b79e-71cc29b4ea00",
    "deepnote_cell_type": "markdown"
   },
   "outputs": [],
   "execution_count": null
  },
  {
   "cell_type": "markdown",
   "source": "<a style='text-decoration:none;line-height:16px;display:flex;color:#5B5B62;padding:10px;justify-content:end;' href='https://deepnote.com?utm_source=created-in-deepnote-cell&projectId=246fa214-d73c-42c3-9780-c1f3dc076381' target=\"_blank\">\n<img alt='Created in deepnote.com' style='display:inline;max-height:16px;margin:0px;margin-right:7.5px;' src='data:image/svg+xml;base64,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' > </img>\nCreated in <span style='font-weight:600;margin-left:4px;'>Deepnote</span></a>",
   "metadata": {
    "tags": [],
    "created_in_deepnote_cell": true,
    "deepnote_cell_type": "markdown"
   }
  }
 ],
 "nbformat": 4,
 "nbformat_minor": 2,
 "metadata": {
  "orig_nbformat": 2,
  "deepnote": {
   "is_reactive": false
  },
  "deepnote_notebook_id": "9e1dd6e0-c056-438c-9c08-15124d127300",
  "deepnote_execution_queue": []
 }
}