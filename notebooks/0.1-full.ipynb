{
 "cells": [
  {
   "cell_type": "code",
   "metadata": {
    "tags": [],
    "cell_id": "00000-450ac752-82c5-4d19-b877-00b6e64fca1b",
    "deepnote_to_be_reexecuted": false,
    "source_hash": "1d772b54",
    "execution_start": 1641481570861,
    "execution_millis": 2649,
    "deepnote_cell_type": "code"
   },
   "source": "%matplotlib inline\nimport pandas as pd\nimport numpy as np\nimport matplotlib.pyplot as plt",
   "execution_count": 1,
   "outputs": []
  },
  {
   "cell_type": "markdown",
   "source": "## Extraer datos",
   "metadata": {
    "tags": [],
    "cell_id": "00001-28e88da5-a2e2-482e-8c37-c7dea94f31cb",
    "deepnote_cell_type": "markdown"
   }
  },
  {
   "cell_type": "code",
   "metadata": {
    "tags": [],
    "cell_id": "00001-144f34a1-03fe-4633-a18b-07caca24fe1a",
    "deepnote_to_be_reexecuted": false,
    "source_hash": "a4db1847",
    "execution_start": 1641481573513,
    "execution_millis": 82,
    "deepnote_cell_type": "code"
   },
   "source": "df_customers = pd.read_csv('../data/Mall_Customers.csv')\ndf_customers.head()",
   "execution_count": 2,
   "outputs": [
    {
     "output_type": "execute_result",
     "execution_count": 2,
     "data": {
      "application/vnd.deepnote.dataframe.v3+json": {
       "column_count": 5,
       "row_count": 5,
       "columns": [
        {
         "name": "CustomerID",
         "dtype": "int64",
         "stats": {
          "unique_count": 5,
          "nan_count": 0,
          "min": "1",
          "max": "5",
          "histogram": [
           {
            "bin_start": 1,
            "bin_end": 1.4,
            "count": 1
           },
           {
            "bin_start": 1.4,
            "bin_end": 1.8,
            "count": 0
           },
           {
            "bin_start": 1.8,
            "bin_end": 2.2,
            "count": 1
           },
           {
            "bin_start": 2.2,
            "bin_end": 2.6,
            "count": 0
           },
           {
            "bin_start": 2.6,
            "bin_end": 3,
            "count": 0
           },
           {
            "bin_start": 3,
            "bin_end": 3.4000000000000004,
            "count": 1
           },
           {
            "bin_start": 3.4000000000000004,
            "bin_end": 3.8000000000000003,
            "count": 0
           },
           {
            "bin_start": 3.8000000000000003,
            "bin_end": 4.2,
            "count": 1
           },
           {
            "bin_start": 4.2,
            "bin_end": 4.6,
            "count": 0
           },
           {
            "bin_start": 4.6,
            "bin_end": 5,
            "count": 1
           }
          ]
         }
        },
        {
         "name": "Gender",
         "dtype": "object",
         "stats": {
          "unique_count": 2,
          "nan_count": 0,
          "categories": [
           {
            "name": "Female",
            "count": 3
           },
           {
            "name": "Male",
            "count": 2
           }
          ]
         }
        },
        {
         "name": "Age",
         "dtype": "int64",
         "stats": {
          "unique_count": 5,
          "nan_count": 0,
          "min": "19",
          "max": "31",
          "histogram": [
           {
            "bin_start": 19,
            "bin_end": 20.2,
            "count": 2
           },
           {
            "bin_start": 20.2,
            "bin_end": 21.4,
            "count": 1
           },
           {
            "bin_start": 21.4,
            "bin_end": 22.6,
            "count": 0
           },
           {
            "bin_start": 22.6,
            "bin_end": 23.8,
            "count": 1
           },
           {
            "bin_start": 23.8,
            "bin_end": 25,
            "count": 0
           },
           {
            "bin_start": 25,
            "bin_end": 26.2,
            "count": 0
           },
           {
            "bin_start": 26.2,
            "bin_end": 27.4,
            "count": 0
           },
           {
            "bin_start": 27.4,
            "bin_end": 28.6,
            "count": 0
           },
           {
            "bin_start": 28.6,
            "bin_end": 29.799999999999997,
            "count": 0
           },
           {
            "bin_start": 29.799999999999997,
            "bin_end": 31,
            "count": 1
           }
          ]
         }
        },
        {
         "name": "Annual Income (k$)",
         "dtype": "int64",
         "stats": {
          "unique_count": 3,
          "nan_count": 0,
          "min": "15",
          "max": "17",
          "histogram": [
           {
            "bin_start": 15,
            "bin_end": 15.2,
            "count": 2
           },
           {
            "bin_start": 15.2,
            "bin_end": 15.4,
            "count": 0
           },
           {
            "bin_start": 15.4,
            "bin_end": 15.6,
            "count": 0
           },
           {
            "bin_start": 15.6,
            "bin_end": 15.8,
            "count": 0
           },
           {
            "bin_start": 15.8,
            "bin_end": 16,
            "count": 0
           },
           {
            "bin_start": 16,
            "bin_end": 16.2,
            "count": 2
           },
           {
            "bin_start": 16.2,
            "bin_end": 16.4,
            "count": 0
           },
           {
            "bin_start": 16.4,
            "bin_end": 16.6,
            "count": 0
           },
           {
            "bin_start": 16.6,
            "bin_end": 16.8,
            "count": 0
           },
           {
            "bin_start": 16.8,
            "bin_end": 17,
            "count": 1
           }
          ]
         }
        },
        {
         "name": "Spending Score (1-100)",
         "dtype": "int64",
         "stats": {
          "unique_count": 5,
          "nan_count": 0,
          "min": "6",
          "max": "81",
          "histogram": [
           {
            "bin_start": 6,
            "bin_end": 13.5,
            "count": 1
           },
           {
            "bin_start": 13.5,
            "bin_end": 21,
            "count": 0
           },
           {
            "bin_start": 21,
            "bin_end": 28.5,
            "count": 0
           },
           {
            "bin_start": 28.5,
            "bin_end": 36,
            "count": 0
           },
           {
            "bin_start": 36,
            "bin_end": 43.5,
            "count": 2
           },
           {
            "bin_start": 43.5,
            "bin_end": 51,
            "count": 0
           },
           {
            "bin_start": 51,
            "bin_end": 58.5,
            "count": 0
           },
           {
            "bin_start": 58.5,
            "bin_end": 66,
            "count": 0
           },
           {
            "bin_start": 66,
            "bin_end": 73.5,
            "count": 0
           },
           {
            "bin_start": 73.5,
            "bin_end": 81,
            "count": 2
           }
          ]
         }
        },
        {
         "name": "_deepnote_index_column",
         "dtype": "int64"
        }
       ],
       "rows": [
        {
         "CustomerID": 1,
         "Gender": "Male",
         "Age": 19,
         "Annual Income (k$)": 15,
         "Spending Score (1-100)": 39,
         "_deepnote_index_column": 0
        },
        {
         "CustomerID": 2,
         "Gender": "Male",
         "Age": 21,
         "Annual Income (k$)": 15,
         "Spending Score (1-100)": 81,
         "_deepnote_index_column": 1
        },
        {
         "CustomerID": 3,
         "Gender": "Female",
         "Age": 20,
         "Annual Income (k$)": 16,
         "Spending Score (1-100)": 6,
         "_deepnote_index_column": 2
        },
        {
         "CustomerID": 4,
         "Gender": "Female",
         "Age": 23,
         "Annual Income (k$)": 16,
         "Spending Score (1-100)": 77,
         "_deepnote_index_column": 3
        },
        {
         "CustomerID": 5,
         "Gender": "Female",
         "Age": 31,
         "Annual Income (k$)": 17,
         "Spending Score (1-100)": 40,
         "_deepnote_index_column": 4
        }
       ]
      },
      "text/plain": "   CustomerID  Gender  Age  Annual Income (k$)  Spending Score (1-100)\n0           1    Male   19                  15                      39\n1           2    Male   21                  15                      81\n2           3  Female   20                  16                       6\n3           4  Female   23                  16                      77\n4           5  Female   31                  17                      40",
      "text/html": "<div>\n<style scoped>\n    .dataframe tbody tr th:only-of-type {\n        vertical-align: middle;\n    }\n\n    .dataframe tbody tr th {\n        vertical-align: top;\n    }\n\n    .dataframe thead th {\n        text-align: right;\n    }\n</style>\n<table border=\"1\" class=\"dataframe\">\n  <thead>\n    <tr style=\"text-align: right;\">\n      <th></th>\n      <th>CustomerID</th>\n      <th>Gender</th>\n      <th>Age</th>\n      <th>Annual Income (k$)</th>\n      <th>Spending Score (1-100)</th>\n    </tr>\n  </thead>\n  <tbody>\n    <tr>\n      <th>0</th>\n      <td>1</td>\n      <td>Male</td>\n      <td>19</td>\n      <td>15</td>\n      <td>39</td>\n    </tr>\n    <tr>\n      <th>1</th>\n      <td>2</td>\n      <td>Male</td>\n      <td>21</td>\n      <td>15</td>\n      <td>81</td>\n    </tr>\n    <tr>\n      <th>2</th>\n      <td>3</td>\n      <td>Female</td>\n      <td>20</td>\n      <td>16</td>\n      <td>6</td>\n    </tr>\n    <tr>\n      <th>3</th>\n      <td>4</td>\n      <td>Female</td>\n      <td>23</td>\n      <td>16</td>\n      <td>77</td>\n    </tr>\n    <tr>\n      <th>4</th>\n      <td>5</td>\n      <td>Female</td>\n      <td>31</td>\n      <td>17</td>\n      <td>40</td>\n    </tr>\n  </tbody>\n</table>\n</div>"
     },
     "metadata": {}
    }
   ]
  },
  {
   "cell_type": "markdown",
   "source": "## Limpiar datos",
   "metadata": {
    "tags": [],
    "cell_id": "00003-dfbcee3f-765e-452b-88e8-1c0bb5a91273",
    "deepnote_cell_type": "markdown"
   }
  },
  {
   "cell_type": "code",
   "metadata": {
    "tags": [],
    "cell_id": "00003-1225aa18-ac33-41d5-a97d-cfacc83858be",
    "deepnote_to_be_reexecuted": false,
    "source_hash": "caf18a8c",
    "execution_start": 1641481573661,
    "execution_millis": 26,
    "deepnote_cell_type": "code"
   },
   "source": "df_customers = df_customers.drop(['CustomerID'], axis=1)\ndf_customers.head()",
   "execution_count": 3,
   "outputs": [
    {
     "output_type": "execute_result",
     "execution_count": 3,
     "data": {
      "application/vnd.deepnote.dataframe.v3+json": {
       "column_count": 4,
       "row_count": 5,
       "columns": [
        {
         "name": "Gender",
         "dtype": "object",
         "stats": {
          "unique_count": 2,
          "nan_count": 0,
          "categories": [
           {
            "name": "Female",
            "count": 3
           },
           {
            "name": "Male",
            "count": 2
           }
          ]
         }
        },
        {
         "name": "Age",
         "dtype": "int64",
         "stats": {
          "unique_count": 5,
          "nan_count": 0,
          "min": "19",
          "max": "31",
          "histogram": [
           {
            "bin_start": 19,
            "bin_end": 20.2,
            "count": 2
           },
           {
            "bin_start": 20.2,
            "bin_end": 21.4,
            "count": 1
           },
           {
            "bin_start": 21.4,
            "bin_end": 22.6,
            "count": 0
           },
           {
            "bin_start": 22.6,
            "bin_end": 23.8,
            "count": 1
           },
           {
            "bin_start": 23.8,
            "bin_end": 25,
            "count": 0
           },
           {
            "bin_start": 25,
            "bin_end": 26.2,
            "count": 0
           },
           {
            "bin_start": 26.2,
            "bin_end": 27.4,
            "count": 0
           },
           {
            "bin_start": 27.4,
            "bin_end": 28.6,
            "count": 0
           },
           {
            "bin_start": 28.6,
            "bin_end": 29.799999999999997,
            "count": 0
           },
           {
            "bin_start": 29.799999999999997,
            "bin_end": 31,
            "count": 1
           }
          ]
         }
        },
        {
         "name": "Annual Income (k$)",
         "dtype": "int64",
         "stats": {
          "unique_count": 3,
          "nan_count": 0,
          "min": "15",
          "max": "17",
          "histogram": [
           {
            "bin_start": 15,
            "bin_end": 15.2,
            "count": 2
           },
           {
            "bin_start": 15.2,
            "bin_end": 15.4,
            "count": 0
           },
           {
            "bin_start": 15.4,
            "bin_end": 15.6,
            "count": 0
           },
           {
            "bin_start": 15.6,
            "bin_end": 15.8,
            "count": 0
           },
           {
            "bin_start": 15.8,
            "bin_end": 16,
            "count": 0
           },
           {
            "bin_start": 16,
            "bin_end": 16.2,
            "count": 2
           },
           {
            "bin_start": 16.2,
            "bin_end": 16.4,
            "count": 0
           },
           {
            "bin_start": 16.4,
            "bin_end": 16.6,
            "count": 0
           },
           {
            "bin_start": 16.6,
            "bin_end": 16.8,
            "count": 0
           },
           {
            "bin_start": 16.8,
            "bin_end": 17,
            "count": 1
           }
          ]
         }
        },
        {
         "name": "Spending Score (1-100)",
         "dtype": "int64",
         "stats": {
          "unique_count": 5,
          "nan_count": 0,
          "min": "6",
          "max": "81",
          "histogram": [
           {
            "bin_start": 6,
            "bin_end": 13.5,
            "count": 1
           },
           {
            "bin_start": 13.5,
            "bin_end": 21,
            "count": 0
           },
           {
            "bin_start": 21,
            "bin_end": 28.5,
            "count": 0
           },
           {
            "bin_start": 28.5,
            "bin_end": 36,
            "count": 0
           },
           {
            "bin_start": 36,
            "bin_end": 43.5,
            "count": 2
           },
           {
            "bin_start": 43.5,
            "bin_end": 51,
            "count": 0
           },
           {
            "bin_start": 51,
            "bin_end": 58.5,
            "count": 0
           },
           {
            "bin_start": 58.5,
            "bin_end": 66,
            "count": 0
           },
           {
            "bin_start": 66,
            "bin_end": 73.5,
            "count": 0
           },
           {
            "bin_start": 73.5,
            "bin_end": 81,
            "count": 2
           }
          ]
         }
        },
        {
         "name": "_deepnote_index_column",
         "dtype": "int64"
        }
       ],
       "rows": [
        {
         "Gender": "Male",
         "Age": 19,
         "Annual Income (k$)": 15,
         "Spending Score (1-100)": 39,
         "_deepnote_index_column": 0
        },
        {
         "Gender": "Male",
         "Age": 21,
         "Annual Income (k$)": 15,
         "Spending Score (1-100)": 81,
         "_deepnote_index_column": 1
        },
        {
         "Gender": "Female",
         "Age": 20,
         "Annual Income (k$)": 16,
         "Spending Score (1-100)": 6,
         "_deepnote_index_column": 2
        },
        {
         "Gender": "Female",
         "Age": 23,
         "Annual Income (k$)": 16,
         "Spending Score (1-100)": 77,
         "_deepnote_index_column": 3
        },
        {
         "Gender": "Female",
         "Age": 31,
         "Annual Income (k$)": 17,
         "Spending Score (1-100)": 40,
         "_deepnote_index_column": 4
        }
       ]
      },
      "text/plain": "   Gender  Age  Annual Income (k$)  Spending Score (1-100)\n0    Male   19                  15                      39\n1    Male   21                  15                      81\n2  Female   20                  16                       6\n3  Female   23                  16                      77\n4  Female   31                  17                      40",
      "text/html": "<div>\n<style scoped>\n    .dataframe tbody tr th:only-of-type {\n        vertical-align: middle;\n    }\n\n    .dataframe tbody tr th {\n        vertical-align: top;\n    }\n\n    .dataframe thead th {\n        text-align: right;\n    }\n</style>\n<table border=\"1\" class=\"dataframe\">\n  <thead>\n    <tr style=\"text-align: right;\">\n      <th></th>\n      <th>Gender</th>\n      <th>Age</th>\n      <th>Annual Income (k$)</th>\n      <th>Spending Score (1-100)</th>\n    </tr>\n  </thead>\n  <tbody>\n    <tr>\n      <th>0</th>\n      <td>Male</td>\n      <td>19</td>\n      <td>15</td>\n      <td>39</td>\n    </tr>\n    <tr>\n      <th>1</th>\n      <td>Male</td>\n      <td>21</td>\n      <td>15</td>\n      <td>81</td>\n    </tr>\n    <tr>\n      <th>2</th>\n      <td>Female</td>\n      <td>20</td>\n      <td>16</td>\n      <td>6</td>\n    </tr>\n    <tr>\n      <th>3</th>\n      <td>Female</td>\n      <td>23</td>\n      <td>16</td>\n      <td>77</td>\n    </tr>\n    <tr>\n      <th>4</th>\n      <td>Female</td>\n      <td>31</td>\n      <td>17</td>\n      <td>40</td>\n    </tr>\n  </tbody>\n</table>\n</div>"
     },
     "metadata": {}
    }
   ]
  },
  {
   "cell_type": "code",
   "metadata": {
    "tags": [],
    "cell_id": "00004-24b42e76-7d80-40be-8550-2801237c7c25",
    "deepnote_to_be_reexecuted": false,
    "source_hash": "13a9233c",
    "execution_start": 1641481573696,
    "execution_millis": 3,
    "deepnote_output_heights": [
     97.9375
    ],
    "deepnote_cell_type": "code"
   },
   "source": "df_customers.isnull().sum()",
   "execution_count": 4,
   "outputs": [
    {
     "output_type": "execute_result",
     "execution_count": 4,
     "data": {
      "text/plain": "Gender                    0\nAge                       0\nAnnual Income (k$)        0\nSpending Score (1-100)    0\ndtype: int64"
     },
     "metadata": {}
    }
   ]
  },
  {
   "cell_type": "markdown",
   "source": "## Transformar datos",
   "metadata": {
    "tags": [],
    "cell_id": "00006-e920f4f9-4808-4be3-9556-3497e56e58c7",
    "deepnote_cell_type": "markdown"
   }
  },
  {
   "cell_type": "markdown",
   "source": "### Variables numéricas",
   "metadata": {
    "tags": [],
    "cell_id": "00007-948ef889-fa4e-4863-b08b-8f69930327db",
    "deepnote_cell_type": "markdown"
   }
  },
  {
   "cell_type": "code",
   "metadata": {
    "tags": [],
    "cell_id": "00007-e63d3944-c5ce-4a49-ac17-f5f06c7f2206",
    "deepnote_to_be_reexecuted": false,
    "source_hash": "866b8212",
    "execution_start": 1641481573757,
    "execution_millis": 1068,
    "deepnote_cell_type": "code"
   },
   "source": "from sklearn.preprocessing import StandardScaler",
   "execution_count": 5,
   "outputs": []
  },
  {
   "cell_type": "code",
   "metadata": {
    "tags": [],
    "cell_id": "00008-0badd7d9-3f87-46d6-bb7c-5af0e0210b1c",
    "deepnote_to_be_reexecuted": false,
    "source_hash": "42e5a1c7",
    "execution_start": 1641481574888,
    "execution_millis": 8,
    "deepnote_cell_type": "code"
   },
   "source": "numerical_columns = ['Age', 'Annual Income (k$)', 'Spending Score (1-100)']\nnumerical_data = df_customers[numerical_columns]\nscaler = StandardScaler().fit(numerical_data.values)\nnumerical_data = scaler.transform(numerical_data.values)\nscaled_num_data = pd.DataFrame(numerical_data, columns=numerical_columns)\nscaled_num_data.head()",
   "execution_count": 6,
   "outputs": [
    {
     "output_type": "execute_result",
     "execution_count": 6,
     "data": {
      "application/vnd.deepnote.dataframe.v3+json": {
       "column_count": 3,
       "row_count": 5,
       "columns": [
        {
         "name": "Age",
         "dtype": "float64",
         "stats": {
          "unique_count": 5,
          "nan_count": 0,
          "min": "-1.4245687900521393",
          "max": "-0.5633685139500905",
          "histogram": [
           {
            "bin_start": -1.4245687900521393,
            "bin_end": -1.3384487624419343,
            "count": 2
           },
           {
            "bin_start": -1.3384487624419343,
            "bin_end": -1.2523287348317296,
            "count": 1
           },
           {
            "bin_start": -1.2523287348317296,
            "bin_end": -1.1662087072215246,
            "count": 0
           },
           {
            "bin_start": -1.1662087072215246,
            "bin_end": -1.0800886796113198,
            "count": 1
           },
           {
            "bin_start": -1.0800886796113198,
            "bin_end": -0.9939686520011148,
            "count": 0
           },
           {
            "bin_start": -0.9939686520011148,
            "bin_end": -0.90784862439091,
            "count": 0
           },
           {
            "bin_start": -0.90784862439091,
            "bin_end": -0.8217285967807051,
            "count": 0
           },
           {
            "bin_start": -0.8217285967807051,
            "bin_end": -0.7356085691705002,
            "count": 0
           },
           {
            "bin_start": -0.7356085691705002,
            "bin_end": -0.6494885415602953,
            "count": 0
           },
           {
            "bin_start": -0.6494885415602953,
            "bin_end": -0.5633685139500905,
            "count": 1
           }
          ]
         }
        },
        {
         "name": "Annual Income (k$)",
         "dtype": "float64",
         "stats": {
          "unique_count": 3,
          "nan_count": 0,
          "min": "-1.7389991930659485",
          "max": "-1.6626603347224038",
          "histogram": [
           {
            "bin_start": -1.7389991930659485,
            "bin_end": -1.731365307231594,
            "count": 2
           },
           {
            "bin_start": -1.731365307231594,
            "bin_end": -1.7237314213972397,
            "count": 0
           },
           {
            "bin_start": -1.7237314213972397,
            "bin_end": -1.7160975355628851,
            "count": 0
           },
           {
            "bin_start": -1.7160975355628851,
            "bin_end": -1.7084636497285306,
            "count": 0
           },
           {
            "bin_start": -1.7084636497285306,
            "bin_end": -1.700829763894176,
            "count": 2
           },
           {
            "bin_start": -1.700829763894176,
            "bin_end": -1.6931958780598217,
            "count": 0
           },
           {
            "bin_start": -1.6931958780598217,
            "bin_end": -1.6855619922254672,
            "count": 0
           },
           {
            "bin_start": -1.6855619922254672,
            "bin_end": -1.6779281063911127,
            "count": 0
           },
           {
            "bin_start": -1.6779281063911127,
            "bin_end": -1.6702942205567584,
            "count": 0
           },
           {
            "bin_start": -1.6702942205567584,
            "bin_end": -1.6626603347224038,
            "count": 1
           }
          ]
         }
        },
        {
         "name": "Spending Score (1-100)",
         "dtype": "float64",
         "stats": {
          "unique_count": 5,
          "nan_count": 0,
          "min": "-1.7159129834496736",
          "max": "1.195704069915157",
          "histogram": [
           {
            "bin_start": -1.7159129834496736,
            "bin_end": -1.4247512781131906,
            "count": 1
           },
           {
            "bin_start": -1.4247512781131906,
            "bin_end": -1.1335895727767076,
            "count": 0
           },
           {
            "bin_start": -1.1335895727767076,
            "bin_end": -0.8424278674402244,
            "count": 0
           },
           {
            "bin_start": -0.8424278674402244,
            "bin_end": -0.5512661621037414,
            "count": 0
           },
           {
            "bin_start": -0.5512661621037414,
            "bin_end": -0.26010445676725835,
            "count": 2
           },
           {
            "bin_start": -0.26010445676725835,
            "bin_end": 0.03105724856922487,
            "count": 0
           },
           {
            "bin_start": 0.03105724856922487,
            "bin_end": 0.32221895390570765,
            "count": 0
           },
           {
            "bin_start": 0.32221895390570765,
            "bin_end": 0.6133806592421909,
            "count": 0
           },
           {
            "bin_start": 0.6133806592421909,
            "bin_end": 0.9045423645786741,
            "count": 0
           },
           {
            "bin_start": 0.9045423645786741,
            "bin_end": 1.195704069915157,
            "count": 2
           }
          ]
         }
        },
        {
         "name": "_deepnote_index_column",
         "dtype": "int64"
        }
       ],
       "rows": [
        {
         "Age": -1.4245687900521393,
         "Annual Income (k$)": -1.7389991930659485,
         "Spending Score (1-100)": -0.43480147996914814,
         "_deepnote_index_column": 0
        },
        {
         "Age": -1.2810354107017978,
         "Annual Income (k$)": -1.7389991930659485,
         "Spending Score (1-100)": 1.195704069915157,
         "_deepnote_index_column": 1
        },
        {
         "Age": -1.3528021003769686,
         "Annual Income (k$)": -1.7008297638941763,
         "Spending Score (1-100)": -1.7159129834496736,
         "_deepnote_index_column": 2
        },
        {
         "Age": -1.1375020313514563,
         "Annual Income (k$)": -1.7008297638941763,
         "Spending Score (1-100)": 1.0404178270690327,
         "_deepnote_index_column": 3
        },
        {
         "Age": -0.5633685139500905,
         "Annual Income (k$)": -1.6626603347224038,
         "Spending Score (1-100)": -0.3959799192576171,
         "_deepnote_index_column": 4
        }
       ]
      },
      "text/plain": "        Age  Annual Income (k$)  Spending Score (1-100)\n0 -1.424569           -1.738999               -0.434801\n1 -1.281035           -1.738999                1.195704\n2 -1.352802           -1.700830               -1.715913\n3 -1.137502           -1.700830                1.040418\n4 -0.563369           -1.662660               -0.395980",
      "text/html": "<div>\n<style scoped>\n    .dataframe tbody tr th:only-of-type {\n        vertical-align: middle;\n    }\n\n    .dataframe tbody tr th {\n        vertical-align: top;\n    }\n\n    .dataframe thead th {\n        text-align: right;\n    }\n</style>\n<table border=\"1\" class=\"dataframe\">\n  <thead>\n    <tr style=\"text-align: right;\">\n      <th></th>\n      <th>Age</th>\n      <th>Annual Income (k$)</th>\n      <th>Spending Score (1-100)</th>\n    </tr>\n  </thead>\n  <tbody>\n    <tr>\n      <th>0</th>\n      <td>-1.424569</td>\n      <td>-1.738999</td>\n      <td>-0.434801</td>\n    </tr>\n    <tr>\n      <th>1</th>\n      <td>-1.281035</td>\n      <td>-1.738999</td>\n      <td>1.195704</td>\n    </tr>\n    <tr>\n      <th>2</th>\n      <td>-1.352802</td>\n      <td>-1.700830</td>\n      <td>-1.715913</td>\n    </tr>\n    <tr>\n      <th>3</th>\n      <td>-1.137502</td>\n      <td>-1.700830</td>\n      <td>1.040418</td>\n    </tr>\n    <tr>\n      <th>4</th>\n      <td>-0.563369</td>\n      <td>-1.662660</td>\n      <td>-0.395980</td>\n    </tr>\n  </tbody>\n</table>\n</div>"
     },
     "metadata": {}
    }
   ]
  },
  {
   "cell_type": "markdown",
   "source": "### Variables categóricas",
   "metadata": {
    "tags": [],
    "cell_id": "00008-30702b9f-102f-4fc9-a20a-8320023d5713",
    "deepnote_cell_type": "markdown"
   }
  },
  {
   "cell_type": "code",
   "metadata": {
    "tags": [],
    "cell_id": "00009-cbe9558c-1703-4abf-abf5-5a664cd6d260",
    "deepnote_to_be_reexecuted": false,
    "source_hash": "7d0acec1",
    "execution_start": 1641481574966,
    "execution_millis": 13,
    "deepnote_cell_type": "code"
   },
   "source": "gender = df_customers['Gender']\ndf = scaled_num_data.join(gender)\ndf = pd.get_dummies(df)\ndf = df.drop(['Gender_Male'], axis=1)\ndf.head()",
   "execution_count": 7,
   "outputs": [
    {
     "output_type": "execute_result",
     "execution_count": 7,
     "data": {
      "application/vnd.deepnote.dataframe.v3+json": {
       "column_count": 4,
       "row_count": 5,
       "columns": [
        {
         "name": "Age",
         "dtype": "float64",
         "stats": {
          "unique_count": 5,
          "nan_count": 0,
          "min": "-1.4245687900521393",
          "max": "-0.5633685139500905",
          "histogram": [
           {
            "bin_start": -1.4245687900521393,
            "bin_end": -1.3384487624419343,
            "count": 2
           },
           {
            "bin_start": -1.3384487624419343,
            "bin_end": -1.2523287348317296,
            "count": 1
           },
           {
            "bin_start": -1.2523287348317296,
            "bin_end": -1.1662087072215246,
            "count": 0
           },
           {
            "bin_start": -1.1662087072215246,
            "bin_end": -1.0800886796113198,
            "count": 1
           },
           {
            "bin_start": -1.0800886796113198,
            "bin_end": -0.9939686520011148,
            "count": 0
           },
           {
            "bin_start": -0.9939686520011148,
            "bin_end": -0.90784862439091,
            "count": 0
           },
           {
            "bin_start": -0.90784862439091,
            "bin_end": -0.8217285967807051,
            "count": 0
           },
           {
            "bin_start": -0.8217285967807051,
            "bin_end": -0.7356085691705002,
            "count": 0
           },
           {
            "bin_start": -0.7356085691705002,
            "bin_end": -0.6494885415602953,
            "count": 0
           },
           {
            "bin_start": -0.6494885415602953,
            "bin_end": -0.5633685139500905,
            "count": 1
           }
          ]
         }
        },
        {
         "name": "Annual Income (k$)",
         "dtype": "float64",
         "stats": {
          "unique_count": 3,
          "nan_count": 0,
          "min": "-1.7389991930659485",
          "max": "-1.6626603347224038",
          "histogram": [
           {
            "bin_start": -1.7389991930659485,
            "bin_end": -1.731365307231594,
            "count": 2
           },
           {
            "bin_start": -1.731365307231594,
            "bin_end": -1.7237314213972397,
            "count": 0
           },
           {
            "bin_start": -1.7237314213972397,
            "bin_end": -1.7160975355628851,
            "count": 0
           },
           {
            "bin_start": -1.7160975355628851,
            "bin_end": -1.7084636497285306,
            "count": 0
           },
           {
            "bin_start": -1.7084636497285306,
            "bin_end": -1.700829763894176,
            "count": 2
           },
           {
            "bin_start": -1.700829763894176,
            "bin_end": -1.6931958780598217,
            "count": 0
           },
           {
            "bin_start": -1.6931958780598217,
            "bin_end": -1.6855619922254672,
            "count": 0
           },
           {
            "bin_start": -1.6855619922254672,
            "bin_end": -1.6779281063911127,
            "count": 0
           },
           {
            "bin_start": -1.6779281063911127,
            "bin_end": -1.6702942205567584,
            "count": 0
           },
           {
            "bin_start": -1.6702942205567584,
            "bin_end": -1.6626603347224038,
            "count": 1
           }
          ]
         }
        },
        {
         "name": "Spending Score (1-100)",
         "dtype": "float64",
         "stats": {
          "unique_count": 5,
          "nan_count": 0,
          "min": "-1.7159129834496736",
          "max": "1.195704069915157",
          "histogram": [
           {
            "bin_start": -1.7159129834496736,
            "bin_end": -1.4247512781131906,
            "count": 1
           },
           {
            "bin_start": -1.4247512781131906,
            "bin_end": -1.1335895727767076,
            "count": 0
           },
           {
            "bin_start": -1.1335895727767076,
            "bin_end": -0.8424278674402244,
            "count": 0
           },
           {
            "bin_start": -0.8424278674402244,
            "bin_end": -0.5512661621037414,
            "count": 0
           },
           {
            "bin_start": -0.5512661621037414,
            "bin_end": -0.26010445676725835,
            "count": 2
           },
           {
            "bin_start": -0.26010445676725835,
            "bin_end": 0.03105724856922487,
            "count": 0
           },
           {
            "bin_start": 0.03105724856922487,
            "bin_end": 0.32221895390570765,
            "count": 0
           },
           {
            "bin_start": 0.32221895390570765,
            "bin_end": 0.6133806592421909,
            "count": 0
           },
           {
            "bin_start": 0.6133806592421909,
            "bin_end": 0.9045423645786741,
            "count": 0
           },
           {
            "bin_start": 0.9045423645786741,
            "bin_end": 1.195704069915157,
            "count": 2
           }
          ]
         }
        },
        {
         "name": "Gender_Female",
         "dtype": "uint8",
         "stats": {
          "unique_count": 2,
          "nan_count": 0,
          "min": "0",
          "max": "1",
          "histogram": [
           {
            "bin_start": 0,
            "bin_end": 0.1,
            "count": 2
           },
           {
            "bin_start": 0.1,
            "bin_end": 0.2,
            "count": 0
           },
           {
            "bin_start": 0.2,
            "bin_end": 0.30000000000000004,
            "count": 0
           },
           {
            "bin_start": 0.30000000000000004,
            "bin_end": 0.4,
            "count": 0
           },
           {
            "bin_start": 0.4,
            "bin_end": 0.5,
            "count": 0
           },
           {
            "bin_start": 0.5,
            "bin_end": 0.6000000000000001,
            "count": 0
           },
           {
            "bin_start": 0.6000000000000001,
            "bin_end": 0.7000000000000001,
            "count": 0
           },
           {
            "bin_start": 0.7000000000000001,
            "bin_end": 0.8,
            "count": 0
           },
           {
            "bin_start": 0.8,
            "bin_end": 0.9,
            "count": 0
           },
           {
            "bin_start": 0.9,
            "bin_end": 1,
            "count": 3
           }
          ]
         }
        },
        {
         "name": "_deepnote_index_column",
         "dtype": "int64"
        }
       ],
       "rows": [
        {
         "Age": -1.4245687900521393,
         "Annual Income (k$)": -1.7389991930659485,
         "Spending Score (1-100)": -0.43480147996914814,
         "Gender_Female": 0,
         "_deepnote_index_column": 0
        },
        {
         "Age": -1.2810354107017978,
         "Annual Income (k$)": -1.7389991930659485,
         "Spending Score (1-100)": 1.195704069915157,
         "Gender_Female": 0,
         "_deepnote_index_column": 1
        },
        {
         "Age": -1.3528021003769686,
         "Annual Income (k$)": -1.7008297638941763,
         "Spending Score (1-100)": -1.7159129834496736,
         "Gender_Female": 1,
         "_deepnote_index_column": 2
        },
        {
         "Age": -1.1375020313514563,
         "Annual Income (k$)": -1.7008297638941763,
         "Spending Score (1-100)": 1.0404178270690327,
         "Gender_Female": 1,
         "_deepnote_index_column": 3
        },
        {
         "Age": -0.5633685139500905,
         "Annual Income (k$)": -1.6626603347224038,
         "Spending Score (1-100)": -0.3959799192576171,
         "Gender_Female": 1,
         "_deepnote_index_column": 4
        }
       ]
      },
      "text/plain": "        Age  Annual Income (k$)  Spending Score (1-100)  Gender_Female\n0 -1.424569           -1.738999               -0.434801              0\n1 -1.281035           -1.738999                1.195704              0\n2 -1.352802           -1.700830               -1.715913              1\n3 -1.137502           -1.700830                1.040418              1\n4 -0.563369           -1.662660               -0.395980              1",
      "text/html": "<div>\n<style scoped>\n    .dataframe tbody tr th:only-of-type {\n        vertical-align: middle;\n    }\n\n    .dataframe tbody tr th {\n        vertical-align: top;\n    }\n\n    .dataframe thead th {\n        text-align: right;\n    }\n</style>\n<table border=\"1\" class=\"dataframe\">\n  <thead>\n    <tr style=\"text-align: right;\">\n      <th></th>\n      <th>Age</th>\n      <th>Annual Income (k$)</th>\n      <th>Spending Score (1-100)</th>\n      <th>Gender_Female</th>\n    </tr>\n  </thead>\n  <tbody>\n    <tr>\n      <th>0</th>\n      <td>-1.424569</td>\n      <td>-1.738999</td>\n      <td>-0.434801</td>\n      <td>0</td>\n    </tr>\n    <tr>\n      <th>1</th>\n      <td>-1.281035</td>\n      <td>-1.738999</td>\n      <td>1.195704</td>\n      <td>0</td>\n    </tr>\n    <tr>\n      <th>2</th>\n      <td>-1.352802</td>\n      <td>-1.700830</td>\n      <td>-1.715913</td>\n      <td>1</td>\n    </tr>\n    <tr>\n      <th>3</th>\n      <td>-1.137502</td>\n      <td>-1.700830</td>\n      <td>1.040418</td>\n      <td>1</td>\n    </tr>\n    <tr>\n      <th>4</th>\n      <td>-0.563369</td>\n      <td>-1.662660</td>\n      <td>-0.395980</td>\n      <td>1</td>\n    </tr>\n  </tbody>\n</table>\n</div>"
     },
     "metadata": {}
    }
   ]
  },
  {
   "cell_type": "markdown",
   "source": "## Explorar data",
   "metadata": {
    "tags": [],
    "cell_id": "00006-4d5aa7dc-1d0a-4890-a172-d33b82cd0591",
    "deepnote_cell_type": "markdown"
   }
  },
  {
   "cell_type": "code",
   "metadata": {
    "tags": [],
    "cell_id": "00011-448e4644-71c8-4eb7-a2b7-a3c81afa1a47",
    "deepnote_to_be_reexecuted": false,
    "source_hash": "799d69bb",
    "execution_start": 1641481574985,
    "execution_millis": 91,
    "deepnote_cell_type": "code"
   },
   "source": "df[['Age', 'Annual Income (k$)', 'Spending Score (1-100)']].describe()",
   "execution_count": 8,
   "outputs": [
    {
     "output_type": "execute_result",
     "execution_count": 8,
     "data": {
      "application/vnd.deepnote.dataframe.v3+json": {
       "column_count": 3,
       "row_count": 8,
       "columns": [
        {
         "name": "Age",
         "dtype": "float64",
         "stats": {
          "unique_count": 8,
          "nan_count": 0,
          "min": "-1.49633547972731",
          "max": "200.0",
          "histogram": [
           {
            "bin_start": -1.49633547972731,
            "bin_end": 18.653298068245423,
            "count": 7
           },
           {
            "bin_start": 18.653298068245423,
            "bin_end": 38.80293161621816,
            "count": 0
           },
           {
            "bin_start": 38.80293161621816,
            "bin_end": 58.952565164190894,
            "count": 0
           },
           {
            "bin_start": 58.952565164190894,
            "bin_end": 79.10219871216363,
            "count": 0
           },
           {
            "bin_start": 79.10219871216363,
            "bin_end": 99.25183226013637,
            "count": 0
           },
           {
            "bin_start": 99.25183226013637,
            "bin_end": 119.4014658081091,
            "count": 0
           },
           {
            "bin_start": 119.4014658081091,
            "bin_end": 139.5510993560818,
            "count": 0
           },
           {
            "bin_start": 139.5510993560818,
            "bin_end": 159.70073290405455,
            "count": 0
           },
           {
            "bin_start": 159.70073290405455,
            "bin_end": 179.8503664520273,
            "count": 0
           },
           {
            "bin_start": 179.8503664520273,
            "bin_end": 200,
            "count": 1
           }
          ]
         }
        },
        {
         "name": "Annual Income (k$)",
         "dtype": "float64",
         "stats": {
          "unique_count": 8,
          "nan_count": 0,
          "min": "-1.7389991930659485",
          "max": "200.0",
          "histogram": [
           {
            "bin_start": -1.7389991930659485,
            "bin_end": 18.43490072624065,
            "count": 7
           },
           {
            "bin_start": 18.43490072624065,
            "bin_end": 38.60880064554724,
            "count": 0
           },
           {
            "bin_start": 38.60880064554724,
            "bin_end": 58.78270056485384,
            "count": 0
           },
           {
            "bin_start": 58.78270056485384,
            "bin_end": 78.95660048416043,
            "count": 0
           },
           {
            "bin_start": 78.95660048416043,
            "bin_end": 99.13050040346702,
            "count": 0
           },
           {
            "bin_start": 99.13050040346702,
            "bin_end": 119.30440032277363,
            "count": 0
           },
           {
            "bin_start": 119.30440032277363,
            "bin_end": 139.47830024208022,
            "count": 0
           },
           {
            "bin_start": 139.47830024208022,
            "bin_end": 159.65220016138682,
            "count": 0
           },
           {
            "bin_start": 159.65220016138682,
            "bin_end": 179.8261000806934,
            "count": 0
           },
           {
            "bin_start": 179.8261000806934,
            "bin_end": 200,
            "count": 1
           }
          ]
         }
        },
        {
         "name": "Spending Score (1-100)",
         "dtype": "float64",
         "stats": {
          "unique_count": 8,
          "nan_count": 0,
          "min": "-1.9100207870073291",
          "max": "200.0",
          "histogram": [
           {
            "bin_start": -1.9100207870073291,
            "bin_end": 18.280981291693404,
            "count": 7
           },
           {
            "bin_start": 18.280981291693404,
            "bin_end": 38.47198337039414,
            "count": 0
           },
           {
            "bin_start": 38.47198337039414,
            "bin_end": 58.662985449094876,
            "count": 0
           },
           {
            "bin_start": 58.662985449094876,
            "bin_end": 78.85398752779561,
            "count": 0
           },
           {
            "bin_start": 78.85398752779561,
            "bin_end": 99.04498960649634,
            "count": 0
           },
           {
            "bin_start": 99.04498960649634,
            "bin_end": 119.23599168519708,
            "count": 0
           },
           {
            "bin_start": 119.23599168519708,
            "bin_end": 139.4269937638978,
            "count": 0
           },
           {
            "bin_start": 139.4269937638978,
            "bin_end": 159.61799584259853,
            "count": 0
           },
           {
            "bin_start": 159.61799584259853,
            "bin_end": 179.80899792129927,
            "count": 0
           },
           {
            "bin_start": 179.80899792129927,
            "bin_end": 200,
            "count": 1
           }
          ]
         }
        },
        {
         "name": "_deepnote_index_column",
         "dtype": "object"
        }
       ],
       "rows": [
        {
         "Age": 200,
         "Annual Income (k$)": 200,
         "Spending Score (1-100)": 200,
         "_deepnote_index_column": "count"
        },
        {
         "Age": -1.021405182655144e-16,
         "Annual Income (k$)": -2.1316282072803005e-16,
         "Spending Score (1-100)": -1.4654943925052067e-16,
         "_deepnote_index_column": "mean"
        },
        {
         "Age": 1.002509414234171,
         "Annual Income (k$)": 1.002509414234171,
         "Spending Score (1-100)": 1.002509414234171,
         "_deepnote_index_column": "std"
        },
        {
         "Age": -1.49633547972731,
         "Annual Income (k$)": -1.7389991930659485,
         "Spending Score (1-100)": -1.9100207870073291,
         "_deepnote_index_column": "min"
        },
        {
         "Age": -0.7248435657192246,
         "Annual Income (k$)": -0.727509320013981,
         "Spending Score (1-100)": -0.5997931129931552,
         "_deepnote_index_column": "25%"
        },
        {
         "Age": -0.20453506557423673,
         "Annual Income (k$)": 0.035879263421465926,
         "Spending Score (1-100)": -0.007764312142306325,
         "_deepnote_index_column": "50%"
        },
        {
         "Age": 0.728431900202983,
         "Annual Income (k$)": 0.6656748447557098,
         "Spending Score (1-100)": 0.8851315842229084,
         "_deepnote_index_column": "75%"
        },
        {
         "Age": 2.2355323833815683,
         "Annual Income (k$)": 2.9176711658902788,
         "Spending Score (1-100)": 1.8944921627227165,
         "_deepnote_index_column": "max"
        }
       ]
      },
      "text/plain": "                Age  Annual Income (k$)  Spending Score (1-100)\ncount  2.000000e+02        2.000000e+02            2.000000e+02\nmean  -1.021405e-16       -2.131628e-16           -1.465494e-16\nstd    1.002509e+00        1.002509e+00            1.002509e+00\nmin   -1.496335e+00       -1.738999e+00           -1.910021e+00\n25%   -7.248436e-01       -7.275093e-01           -5.997931e-01\n50%   -2.045351e-01        3.587926e-02           -7.764312e-03\n75%    7.284319e-01        6.656748e-01            8.851316e-01\nmax    2.235532e+00        2.917671e+00            1.894492e+00",
      "text/html": "<div>\n<style scoped>\n    .dataframe tbody tr th:only-of-type {\n        vertical-align: middle;\n    }\n\n    .dataframe tbody tr th {\n        vertical-align: top;\n    }\n\n    .dataframe thead th {\n        text-align: right;\n    }\n</style>\n<table border=\"1\" class=\"dataframe\">\n  <thead>\n    <tr style=\"text-align: right;\">\n      <th></th>\n      <th>Age</th>\n      <th>Annual Income (k$)</th>\n      <th>Spending Score (1-100)</th>\n    </tr>\n  </thead>\n  <tbody>\n    <tr>\n      <th>count</th>\n      <td>2.000000e+02</td>\n      <td>2.000000e+02</td>\n      <td>2.000000e+02</td>\n    </tr>\n    <tr>\n      <th>mean</th>\n      <td>-1.021405e-16</td>\n      <td>-2.131628e-16</td>\n      <td>-1.465494e-16</td>\n    </tr>\n    <tr>\n      <th>std</th>\n      <td>1.002509e+00</td>\n      <td>1.002509e+00</td>\n      <td>1.002509e+00</td>\n    </tr>\n    <tr>\n      <th>min</th>\n      <td>-1.496335e+00</td>\n      <td>-1.738999e+00</td>\n      <td>-1.910021e+00</td>\n    </tr>\n    <tr>\n      <th>25%</th>\n      <td>-7.248436e-01</td>\n      <td>-7.275093e-01</td>\n      <td>-5.997931e-01</td>\n    </tr>\n    <tr>\n      <th>50%</th>\n      <td>-2.045351e-01</td>\n      <td>3.587926e-02</td>\n      <td>-7.764312e-03</td>\n    </tr>\n    <tr>\n      <th>75%</th>\n      <td>7.284319e-01</td>\n      <td>6.656748e-01</td>\n      <td>8.851316e-01</td>\n    </tr>\n    <tr>\n      <th>max</th>\n      <td>2.235532e+00</td>\n      <td>2.917671e+00</td>\n      <td>1.894492e+00</td>\n    </tr>\n  </tbody>\n</table>\n</div>"
     },
     "metadata": {}
    }
   ]
  },
  {
   "cell_type": "markdown",
   "source": "### Matriz de covarianza",
   "metadata": {
    "tags": [],
    "cell_id": "00014-cea63d3c-e47a-43d0-b8bb-f7d6519c7d40",
    "deepnote_cell_type": "markdown"
   },
   "outputs": [],
   "execution_count": null
  },
  {
   "cell_type": "code",
   "source": "covariance_matrix = np.cov(df[['Age', 'Annual Income (k$)', 'Spending Score (1-100)']].T)\ncovariance_matrix",
   "metadata": {
    "tags": [],
    "cell_id": "00015-7771c23d-5608-4538-8002-9bf8eec8d107",
    "deepnote_to_be_reexecuted": false,
    "source_hash": "626ac3a9",
    "execution_start": 1641482155798,
    "execution_millis": 23,
    "deepnote_output_heights": [
     59.5625
    ],
    "deepnote_cell_type": "code"
   },
   "outputs": [
    {
     "output_type": "execute_result",
     "execution_count": 14,
     "data": {
      "text/plain": "array([[ 1.00502513, -0.01246034, -0.3288712 ],\n       [-0.01246034,  1.00502513,  0.00995261],\n       [-0.3288712 ,  0.00995261,  1.00502513]])"
     },
     "metadata": {}
    }
   ],
   "execution_count": 14
  },
  {
   "cell_type": "code",
   "source": "import seaborn as sns\n\nplt.figure(figsize=(10,10))\nsns.set(font_scale=1.5)\nhm = sns.heatmap(covariance_matrix,\n                cbar=True,\n                annot=True,\n                square=True,\n                fmt='.2f',\n                annot_kws={'size': 12},\n                yticklabels=['Age', 'Annual Income (k$)', 'Spending Score (1-100)'],\n                xticklabels=['Age', 'Annual Income (k$)', 'Spending Score (1-100)'])",
   "metadata": {
    "tags": [],
    "cell_id": "00016-a94cf4d9-87ec-4549-b3f3-2e9c6045a392",
    "deepnote_to_be_reexecuted": false,
    "source_hash": "cb5086dd",
    "execution_start": 1641482161017,
    "execution_millis": 533,
    "deepnote_output_heights": [
     611
    ],
    "deepnote_cell_type": "code"
   },
   "outputs": [
    {
     "data": {
      "text/plain": "<Figure size 720x720 with 2 Axes>",
      "image/png": "[encoded data removed]"
     },
     "metadata": {
      "image/png": {
       "width": 769,
       "height": 718
      }
     },
     "output_type": "display_data"
    }
   ],
   "execution_count": 15
  },
  {
   "cell_type": "markdown",
   "source": "La matriz de covarianza muestra que las variables no están tan correlacionadas. La única relación que se observa es entre la edad y el score de gasto con una correlación de -0.33. Lo cual indica que hay perfiles que a mayor edad gastan menos.",
   "metadata": {
    "tags": [],
    "cell_id": "00017-2166e506-9b71-4284-841d-6df351ba2496",
    "deepnote_to_be_reexecuted": false,
    "source_hash": "25d43fa0",
    "execution_start": 1641482014525,
    "execution_millis": 6,
    "deepnote_output_heights": [
     21.1875
    ],
    "deepnote_cell_type": "markdown"
   },
   "outputs": [],
   "execution_count": 12
  },
  {
   "cell_type": "markdown",
   "source": "### PCA",
   "metadata": {
    "tags": [],
    "cell_id": "00018-2c87180f-e0d5-49b6-8742-fb481e57aae1",
    "deepnote_cell_type": "markdown"
   },
   "outputs": [],
   "execution_count": null
  },
  {
   "cell_type": "markdown",
   "source": "Veamos si le podemos reducir la dimensionalidad del dataset utilizando PCA",
   "metadata": {
    "tags": [],
    "cell_id": "00018-21db933f-8e1d-4628-a8c6-a14c8513c616",
    "deepnote_cell_type": "markdown"
   },
   "outputs": [],
   "execution_count": null
  },
  {
   "cell_type": "code",
   "source": "from sklearn.decomposition import PCA\n\npca = PCA(n_components=4)\nprincipal_components = pca.fit_transform(df)\nfeatures = range(pca.n_components_)\n\nplt.bar(features, pca.explained_variance_ratio_)\nplt.xlabel('PCA features')\nplt.ylabel('variance %')\nplt.xticks(features)\nprint(pca.explained_variance_ratio_)\n\nPCA_components = pd.DataFrame(principal_components)",
   "metadata": {
    "tags": [],
    "cell_id": "00020-c2effa1b-54d0-4ed3-bf76-c10208a11632",
    "deepnote_to_be_reexecuted": false,
    "source_hash": "54027a67",
    "execution_start": 1641482773340,
    "execution_millis": 515,
    "deepnote_output_heights": [
     283,
     283
    ],
    "deepnote_cell_type": "code"
   },
   "outputs": [
    {
     "name": "stdout",
     "text": "[0.4095285  0.3081674  0.20723465 0.07506945]\n",
     "output_type": "stream",
     "data": {}
    },
    {
     "data": {
      "text/plain": "<Figure size 432x288 with 1 Axes>",
      "image/png": "[encoded data removed]"
     },
     "metadata": {
      "image/png": {
       "width": 406,
       "height": 281
      }
     },
     "output_type": "display_data"
    }
   ],
   "execution_count": 17
  },
  {
   "cell_type": "markdown",
   "source": "Como vemos los primeros 3 componentes de PCA explican el 90% de la varianza del dataset",
   "metadata": {
    "tags": [],
    "cell_id": "00021-b0180bbd-ebcf-47cb-8ea7-f190a119f318",
    "deepnote_cell_type": "markdown"
   },
   "outputs": [],
   "execution_count": null
  },
  {
   "cell_type": "markdown",
   "source": "## Implementar modelo",
   "metadata": {
    "tags": [],
    "cell_id": "00007-f5e578fb-8cbd-4134-9589-e3a9258d897a",
    "deepnote_cell_type": "markdown"
   }
  },
  {
   "cell_type": "markdown",
   "source": "Utilizaremos K-means para segmentar los datos",
   "metadata": {
    "tags": [],
    "cell_id": "00023-62a5c177-640e-4ec8-947e-1f351b059aa9",
    "deepnote_cell_type": "markdown"
   },
   "outputs": [],
   "execution_count": null
  },
  {
   "cell_type": "code",
   "source": "from sklearn.cluster import KMeans\n\nks = range(1, 10)\ninertias = []\n\nfor k in ks:\n    model = KMeans(n_clusters=k)\n    model.fit(PCA_components.iloc[:,:3])\n    inertias.append(model.inertia_)\n\nplt.plot(ks, inertias, '-o', color='black')\nplt.xlabel('number of clusters, k')\nplt.ylabel('inertia')\nplt.xticks(ks)\nplt.show()",
   "metadata": {
    "tags": [],
    "cell_id": "00023-f3e33ddd-0eeb-4c22-9e91-786772467aeb",
    "deepnote_to_be_reexecuted": false,
    "source_hash": "1945bbc2",
    "execution_start": 1641483166314,
    "execution_millis": 2512,
    "deepnote_output_heights": [
     283
    ],
    "deepnote_cell_type": "code"
   },
   "outputs": [
    {
     "data": {
      "text/plain": "<Figure size 432x288 with 1 Axes>",
      "image/png": "[encoded data removed]"
     },
     "metadata": {
      "image/png": {
       "width": 412,
       "height": 281
      }
     },
     "output_type": "display_data"
    }
   ],
   "execution_count": 19
  },
  {
   "cell_type": "markdown",
   "source": "Utilizando el método del codo en la figura anterior, el número óptimo de clusters parece ser de 4",
   "metadata": {
    "tags": [],
    "cell_id": "00025-105dd528-dcaa-4e08-a9a1-93bd10ce1e65",
    "deepnote_cell_type": "markdown"
   },
   "outputs": [],
   "execution_count": null
  },
  {
   "cell_type": "markdown",
   "source": "## Interpretar resultados",
   "metadata": {
    "tags": [],
    "cell_id": "00008-5fdaf80d-154c-4c4d-b79e-71cc29b4ea00",
    "deepnote_cell_type": "markdown"
   }
  },
  {
   "cell_type": "markdown",
   "source": "## Recomendaciones según los perfiles de los clientes",
   "metadata": {
    "tags": [],
    "cell_id": "00016-73fc3e78-174c-4db0-8e24-8977f40f76eb",
    "deepnote_cell_type": "markdown"
   }
  },
  {
   "cell_type": "markdown",
   "source": "<a style='text-decoration:none;line-height:16px;display:flex;color:#5B5B62;padding:10px;justify-content:end;' href='https://deepnote.com?utm_source=created-in-deepnote-cell&projectId=246fa214-d73c-42c3-9780-c1f3dc076381' target=\"_blank\">\n<img alt='Created in deepnote.com' style='display:inline;max-height:16px;margin:0px;margin-right:7.5px;' src='data:image/svg+xml;base64,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' > </img>\nCreated in <span style='font-weight:600;margin-left:4px;'>Deepnote</span></a>",
   "metadata": {
    "tags": [],
    "created_in_deepnote_cell": true,
    "deepnote_cell_type": "markdown"
   }
  }
 ],
 "nbformat": 4,
 "nbformat_minor": 2,
 "metadata": {
  "orig_nbformat": 2,
  "deepnote": {
   "is_reactive": false
  },
  "deepnote_notebook_id": "9e1dd6e0-c056-438c-9c08-15124d127300",
  "deepnote_execution_queue": []
 }
}